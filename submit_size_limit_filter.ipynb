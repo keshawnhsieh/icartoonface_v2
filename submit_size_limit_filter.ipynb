{
 "cells": [
  {
   "cell_type": "code",
   "execution_count": 1,
   "metadata": {},
   "outputs": [],
   "source": [
    "# in order to use very bit of submit file size limit,\n",
    "# as well as lower score_thr to get more bonus\n",
    "\n",
    "# submit file limit : 20M"
   ]
  },
  {
   "cell_type": "code",
   "execution_count": 2,
   "metadata": {},
   "outputs": [],
   "source": [
    "import mmcv\n",
    "import pandas as pd\n",
    "import numpy as np\n",
    "\n",
    "\n",
    "from tqdm import tqdm\n",
    "from datetime import datetime\n",
    "import os"
   ]
  },
  {
   "cell_type": "code",
   "execution_count": 3,
   "metadata": {},
   "outputs": [],
   "source": [
    "def iter_results(pred):\n",
    "    for idx, bboxes in enumerate(pred): # enumerate on classes, only has one in this competition\n",
    "        for x_min, y_min, x_max,y_max, p in bboxes:\n",
    "            x_min  =int(x_min)\n",
    "            y_min = int(y_min)\n",
    "            x_max = int(x_max)\n",
    "            y_max = int(y_max)\n",
    "            yield x_min, y_min, x_max, y_max, p "
   ]
  },
  {
   "cell_type": "code",
   "execution_count": 4,
   "metadata": {},
   "outputs": [
    {
     "name": "stderr",
     "output_type": "stream",
     "text": [
      "100%|██████████| 10000/10000 [00:03<00:00, 2524.64it/s]\n"
     ]
    }
   ],
   "source": [
    "img_info  =mmcv.load('../data/icartoonface/dtest.pkl')\n",
    "pred = mmcv.load('test.pkl')\n",
    "\n",
    "assert len(pred) == len(img_info)\n",
    "\n",
    "submit = []\n",
    "for _img, _pred in tqdm(zip(img_info, pred), total=len(pred)):\n",
    "    for x_min, y_min, x_max, y_max , p in iter_results(_pred):\n",
    "        submit.append([\n",
    "            _img['filename'].split('/')[-1], x_min, y_min, x_max, y_max, 'face', p\n",
    "        ])\n",
    "        \n",
    "submit = pd.DataFrame(submit)"
   ]
  },
  {
   "cell_type": "code",
   "execution_count": 5,
   "metadata": {},
   "outputs": [],
   "source": [
    "def compress(df, verbose=True):\n",
    "    numerics = ['int16', 'int32', 'int64', 'float16', 'float32', 'float64']\n",
    "    start_mem = df.memory_usage().sum() / 1024**2    \n",
    "    for col in df.columns:\n",
    "        col_type = df[col].dtypes\n",
    "        if col_type in numerics:\n",
    "            c_min = df[col].min()\n",
    "            c_max = df[col].max()\n",
    "            if str(col_type)[:3] == 'int':\n",
    "                if c_min > np.iinfo(np.int8).min and c_max < np.iinfo(np.int8).max:\n",
    "                    df[col] = df[col].astype(np.int8)\n",
    "                elif c_min > np.iinfo(np.int16).min and c_max < np.iinfo(np.int16).max:\n",
    "                    df[col] = df[col].astype(np.int16)\n",
    "                elif c_min > np.iinfo(np.int32).min and c_max < np.iinfo(np.int32).max:\n",
    "                    df[col] = df[col].astype(np.int32)\n",
    "                elif c_min > np.iinfo(np.int64).min and c_max < np.iinfo(np.int64).max:\n",
    "                    df[col] = df[col].astype(np.int64)  \n",
    "            else:\n",
    "                if c_min > np.finfo(np.float16).min and c_max < np.finfo(np.float16).max:\n",
    "                    df[col] = df[col].astype(np.float16)\n",
    "                elif c_min > np.finfo(np.float32).min and c_max < np.finfo(np.float32).max:\n",
    "                    df[col] = df[col].astype(np.float32)\n",
    "                else:\n",
    "                    df[col] = df[col].astype(np.float64)    \n",
    "    end_mem = df.memory_usage().sum() / 1024**2\n",
    "    if verbose: print('Mem. usage decreased to {:5.2f} Mb ({:.1f}% reduction)'.format(end_mem, 100 * (start_mem - end_mem) / start_mem))\n",
    "    return df\n",
    "\n"
   ]
  },
  {
   "cell_type": "code",
   "execution_count": 6,
   "metadata": {},
   "outputs": [
    {
     "name": "stdout",
     "output_type": "stream",
     "text": [
      "Mem. usage decreased to 24.80 Mb (53.6% reduction)\n"
     ]
    }
   ],
   "source": [
    "# compress DataFrame\n",
    "submit = compress(submit)\n",
    "# submit.info(memory_usage='deep')"
   ]
  },
  {
   "cell_type": "code",
   "execution_count": 7,
   "metadata": {},
   "outputs": [],
   "source": [
    "# make submission first to get current size for reference\n",
    "subname = 'submit.csv'\n",
    "pd.DataFrame(submit).to_csv(subname,\n",
    "                           index=False, header=False)"
   ]
  },
  {
   "cell_type": "code",
   "execution_count": 8,
   "metadata": {},
   "outputs": [],
   "source": [
    "def top_select(pred, comp):\n",
    "    ps = []\n",
    "    for _pred in pred:\n",
    "        for bbox in _pred[0]:\n",
    "            ps.append(bbox[-1])\n",
    "    \n",
    "    ps = np.array(ps)\n",
    "    ps_idx = np.argsort(-ps)[:int(comp * len(ps))]\n",
    "    thr = ps[ps_idx][-1]\n",
    "    print(thr)\n",
    "    \n",
    "    n_start = len(ps)\n",
    "    n_end =len(ps_idx)\n",
    "    print(n_start, n_end)\n",
    "    \n",
    "    comp_pred = []\n",
    "    for _pred in pred:\n",
    "        _pred = _pred[0] # only class 1\n",
    "        comp_pred.append([_pred[_pred[:,-1] > thr]])\n",
    "    \n",
    "    return np.array(comp_pred)"
   ]
  },
  {
   "cell_type": "code",
   "execution_count": 9,
   "metadata": {},
   "outputs": [
    {
     "name": "stdout",
     "output_type": "stream",
     "text": [
      "-rw-r--r-- 1 qixin.xqx users 66M Jun  3 20:45 submit.csv\n"
     ]
    }
   ],
   "source": [
    "!ls -hl submit.csv"
   ]
  },
  {
   "cell_type": "code",
   "execution_count": 10,
   "metadata": {},
   "outputs": [],
   "source": [
    "subsize = 66\n"
   ]
  },
  {
   "cell_type": "code",
   "execution_count": 11,
   "metadata": {},
   "outputs": [
    {
     "name": "stdout",
     "output_type": "stream",
     "text": [
      "0.000464619\n",
      "1000000 303030\n"
     ]
    }
   ],
   "source": [
    "if subsize > 20:\n",
    "    pred = top_select(pred, 20 / subsize)"
   ]
  },
  {
   "cell_type": "code",
   "execution_count": 12,
   "metadata": {},
   "outputs": [
    {
     "name": "stderr",
     "output_type": "stream",
     "text": [
      "100%|██████████| 10000/10000 [00:01<00:00, 9931.72it/s]\n"
     ]
    }
   ],
   "source": [
    "# renew submit file\n",
    "submit = []\n",
    "for _img, _pred in tqdm(zip(img_info, pred), total=len(pred)):\n",
    "    for x_min, y_min, x_max, y_max , p in iter_results(_pred):\n",
    "        submit.append([\n",
    "            _img['filename'].split('/')[-1], x_min, y_min, x_max, y_max, 'face', p\n",
    "        ])\n",
    "        \n",
    "submit = pd.DataFrame(submit)"
   ]
  },
  {
   "cell_type": "code",
   "execution_count": 13,
   "metadata": {},
   "outputs": [
    {
     "name": "stdout",
     "output_type": "stream",
     "text": [
      "Mem. usage decreased to  7.50 Mb (53.6% reduction)\n",
      "<class 'pandas.core.frame.DataFrame'>\n",
      "RangeIndex: 302663 entries, 0 to 302662\n",
      "Data columns (total 7 columns):\n",
      " #   Column  Non-Null Count   Dtype  \n",
      "---  ------  --------------   -----  \n",
      " 0   0       302663 non-null  object \n",
      " 1   1       302663 non-null  int16  \n",
      " 2   2       302663 non-null  int16  \n",
      " 3   3       302663 non-null  int16  \n",
      " 4   4       302663 non-null  int16  \n",
      " 5   5       302663 non-null  object \n",
      " 6   6       302663 non-null  float16\n",
      "dtypes: float16(1), int16(4), object(2)\n",
      "memory usage: 47.9 MB\n"
     ]
    }
   ],
   "source": [
    "# compress DataFrame\n",
    "submit = compress(submit)\n",
    "submit.info(memory_usage='deep')\n",
    "\n",
    "subname = datetime.now().strftime('submit%m%dT%H%M') + '.csv'\n",
    "pd.DataFrame(submit).to_csv(subname,\n",
    "                           index=False, header=False)"
   ]
  }
 ],
 "metadata": {
  "kernelspec": {
   "display_name": "Python 3",
   "language": "python",
   "name": "python3"
  },
  "language_info": {
   "codemirror_mode": {
    "name": "ipython",
    "version": 3
   },
   "file_extension": ".py",
   "mimetype": "text/x-python",
   "name": "python",
   "nbconvert_exporter": "python",
   "pygments_lexer": "ipython3",
   "version": "3.7.7"
  }
 },
 "nbformat": 4,
 "nbformat_minor": 4
}
